{
 "cells": [
  {
   "cell_type": "code",
   "execution_count": null,
   "id": "b38da81c",
   "metadata": {},
   "outputs": [],
   "source": [
    "import requests\n",
    "import os\n",
    "import json\n",
    "\n",
    "def download_image(url, path):\n",
    "    \"\"\"Downloads an image from the given URL and saves it to the given path.\"\"\"\n",
    "    response = requests.get(url)\n",
    "    if response.status_code == 200:\n",
    "        with open(path, \"wb\") as f:\n",
    "            f.write(response.content)\n",
    "\n",
    "def main():\n",
    "    \"\"\"Downloads images from Google Images.\"\"\"\n",
    "    search_text = input(\"Enter a search term: \")\n",
    "    num_images = int(input(\"Enter the number of images to download: \"))\n",
    "    size = input(\"Enter the size of the images to download (small, medium, or large): \")\n",
    "\n",
    "    # Get the image URLs from Google Images.\n",
    "    url = \"https://www.google.com/search?q=\" + search_text + \"&tbm=isch\"\n",
    "    response = requests.get(url)\n",
    "    if response.status_code == 200:\n",
    "        data = json.loads(response.content)\n",
    "        image_urls = [image[\"ou\"] for image in data[\"items\"]]\n",
    "\n",
    "    # Download the images.\n",
    "    download_path = os.path.join(\"dataset\", search_text, size)\n",
    "    if not os.path.exists(download_path):\n",
    "        os.makedirs(download_path)\n",
    "    for image_url in image_urls:\n",
    "        download_image(image_url, os.path.join(download_path, str(num_images) + \".jpg\"))\n",
    "        num_images -= 1\n",
    "        if num_images == 0:\n",
    "            break\n",
    "\n",
    "if __name__ == \"__main__\":\n",
    "    main()\n",
    "    "
   ]
  },
  {
   "cell_type": "code",
   "execution_count": 15,
   "id": "2d9db2e9",
   "metadata": {},
   "outputs": [],
   "source": [
    "import sys\n",
    "searchtext = sys.argv[1]"
   ]
  },
  {
   "cell_type": "code",
   "execution_count": 16,
   "id": "f309092b",
   "metadata": {},
   "outputs": [
    {
     "name": "stdout",
     "output_type": "stream",
     "text": [
      "-f\n"
     ]
    }
   ],
   "source": [
    "print(searchtext)"
   ]
  },
  {
   "cell_type": "code",
   "execution_count": 17,
   "id": "f1594c11",
   "metadata": {},
   "outputs": [],
   "source": [
    "searchtext = sys.argv[2]"
   ]
  },
  {
   "cell_type": "code",
   "execution_count": 21,
   "id": "3a9f9bcc",
   "metadata": {},
   "outputs": [
    {
     "ename": "ValueError",
     "evalue": "invalid literal for int() with base 10: '/Users/kumarmayank/Library/Jupyter/runtime/kernel-8ae034e3-fb83-4f3b-9d63-584dd6463cb0.json'",
     "output_type": "error",
     "traceback": [
      "\u001b[0;31m---------------------------------------------------------------------------\u001b[0m",
      "\u001b[0;31mValueError\u001b[0m                                Traceback (most recent call last)",
      "Cell \u001b[0;32mIn[21], line 1\u001b[0m\n\u001b[0;32m----> 1\u001b[0m \u001b[38;5;28mprint\u001b[39m(\u001b[38;5;28;43mint\u001b[39;49m\u001b[43m(\u001b[49m\u001b[43msearchtext\u001b[49m\u001b[43m)\u001b[49m)\n",
      "\u001b[0;31mValueError\u001b[0m: invalid literal for int() with base 10: '/Users/kumarmayank/Library/Jupyter/runtime/kernel-8ae034e3-fb83-4f3b-9d63-584dd6463cb0.json'"
     ]
    }
   ],
   "source": [
    "print(int(searchtext))"
   ]
  },
  {
   "cell_type": "code",
   "execution_count": 25,
   "id": "5b62c29d",
   "metadata": {},
   "outputs": [],
   "source": [
    "string = \"/Users/kumarmayank/Library/Jupyter/runtime/kernel-8ae034e3-fb83-4f3b-9d63-584dd6463cb0.json\""
   ]
  },
  {
   "cell_type": "code",
   "execution_count": 26,
   "id": "b7556512",
   "metadata": {},
   "outputs": [],
   "source": [
    "new_string = string.replace('/','').replace('.', '')"
   ]
  },
  {
   "cell_type": "code",
   "execution_count": 27,
   "id": "c20ccac2",
   "metadata": {},
   "outputs": [
    {
     "ename": "ValueError",
     "evalue": "invalid literal for int() with base 10: 'UserskumarmayankLibraryJupyterruntimekernel-8ae034e3-fb83-4f3b-9d63-584dd6463cb0json'",
     "output_type": "error",
     "traceback": [
      "\u001b[0;31m---------------------------------------------------------------------------\u001b[0m",
      "\u001b[0;31mValueError\u001b[0m                                Traceback (most recent call last)",
      "Cell \u001b[0;32mIn[27], line 1\u001b[0m\n\u001b[0;32m----> 1\u001b[0m \u001b[38;5;28mprint\u001b[39m(\u001b[38;5;28;43mint\u001b[39;49m\u001b[43m(\u001b[49m\u001b[43mnew_string\u001b[49m\u001b[43m)\u001b[49m)\n",
      "\u001b[0;31mValueError\u001b[0m: invalid literal for int() with base 10: 'UserskumarmayankLibraryJupyterruntimekernel-8ae034e3-fb83-4f3b-9d63-584dd6463cb0json'"
     ]
    }
   ],
   "source": [
    "print(int(new_string))"
   ]
  },
  {
   "cell_type": "code",
   "execution_count": 1,
   "id": "c37a70f9",
   "metadata": {},
   "outputs": [
    {
     "ename": "SessionNotCreatedException",
     "evalue": "Message: Expected browser binary location, but unable to find binary in default location, no 'moz:firefoxOptions.binary' capability provided, and no binary flag set on the command line\n",
     "output_type": "error",
     "traceback": [
      "\u001b[0;31m---------------------------------------------------------------------------\u001b[0m",
      "\u001b[0;31mSessionNotCreatedException\u001b[0m                Traceback (most recent call last)",
      "Cell \u001b[0;32mIn[1], line 76\u001b[0m\n\u001b[1;32m     73\u001b[0m     driver\u001b[38;5;241m.\u001b[39mquit()\n\u001b[1;32m     75\u001b[0m \u001b[38;5;28;01mif\u001b[39;00m \u001b[38;5;18m__name__\u001b[39m \u001b[38;5;241m==\u001b[39m \u001b[38;5;124m\"\u001b[39m\u001b[38;5;124m__main__\u001b[39m\u001b[38;5;124m\"\u001b[39m:\n\u001b[0;32m---> 76\u001b[0m     \u001b[43mmain\u001b[49m\u001b[43m(\u001b[49m\u001b[43m)\u001b[49m\n",
      "Cell \u001b[0;32mIn[1], line 24\u001b[0m, in \u001b[0;36mmain\u001b[0;34m()\u001b[0m\n\u001b[1;32m     21\u001b[0m     os\u001b[38;5;241m.\u001b[39mmakedirs(download_path \u001b[38;5;241m+\u001b[39m searchtext\u001b[38;5;241m.\u001b[39mreplace(\u001b[38;5;124m\"\u001b[39m\u001b[38;5;124m \u001b[39m\u001b[38;5;124m\"\u001b[39m, \u001b[38;5;124m\"\u001b[39m\u001b[38;5;124m_\u001b[39m\u001b[38;5;124m\"\u001b[39m))\n\u001b[1;32m     23\u001b[0m url \u001b[38;5;241m=\u001b[39m \u001b[38;5;124m\"\u001b[39m\u001b[38;5;124mhttps://www.google.co.in/search?q=\u001b[39m\u001b[38;5;124m\"\u001b[39m\u001b[38;5;241m+\u001b[39msearchtext\u001b[38;5;241m+\u001b[39m\u001b[38;5;124m\"\u001b[39m\u001b[38;5;124m&source=lnms&tbm=isch\u001b[39m\u001b[38;5;124m\"\u001b[39m\n\u001b[0;32m---> 24\u001b[0m driver \u001b[38;5;241m=\u001b[39m \u001b[43mwebdriver\u001b[49m\u001b[38;5;241;43m.\u001b[39;49m\u001b[43mFirefox\u001b[49m\u001b[43m(\u001b[49m\u001b[43m)\u001b[49m\n\u001b[1;32m     25\u001b[0m \u001b[38;5;66;03m# from selenium import webdriver\u001b[39;00m\n\u001b[1;32m     26\u001b[0m driver\u001b[38;5;241m.\u001b[39mbinary \u001b[38;5;241m=\u001b[39m \u001b[38;5;124m\"\u001b[39m\u001b[38;5;124m/usr/bin/firefox\u001b[39m\u001b[38;5;124m\"\u001b[39m\n",
      "File \u001b[0;32m~/miniconda3/envs/tensorflow/lib/python3.10/site-packages/selenium/webdriver/firefox/webdriver.py:201\u001b[0m, in \u001b[0;36mWebDriver.__init__\u001b[0;34m(self, firefox_profile, firefox_binary, capabilities, proxy, executable_path, options, service_log_path, service_args, service, desired_capabilities, log_path, keep_alive)\u001b[0m\n\u001b[1;32m    196\u001b[0m \u001b[38;5;28mself\u001b[39m\u001b[38;5;241m.\u001b[39mservice\u001b[38;5;241m.\u001b[39mstart()\n\u001b[1;32m    198\u001b[0m executor \u001b[38;5;241m=\u001b[39m FirefoxRemoteConnection(\n\u001b[1;32m    199\u001b[0m     remote_server_addr\u001b[38;5;241m=\u001b[39m\u001b[38;5;28mself\u001b[39m\u001b[38;5;241m.\u001b[39mservice\u001b[38;5;241m.\u001b[39mservice_url, ignore_proxy\u001b[38;5;241m=\u001b[39moptions\u001b[38;5;241m.\u001b[39m_ignore_local_proxy\n\u001b[1;32m    200\u001b[0m )\n\u001b[0;32m--> 201\u001b[0m \u001b[38;5;28;43msuper\u001b[39;49m\u001b[43m(\u001b[49m\u001b[43m)\u001b[49m\u001b[38;5;241;43m.\u001b[39;49m\u001b[38;5;21;43m__init__\u001b[39;49m\u001b[43m(\u001b[49m\u001b[43mcommand_executor\u001b[49m\u001b[38;5;241;43m=\u001b[39;49m\u001b[43mexecutor\u001b[49m\u001b[43m,\u001b[49m\u001b[43m \u001b[49m\u001b[43moptions\u001b[49m\u001b[38;5;241;43m=\u001b[39;49m\u001b[43moptions\u001b[49m\u001b[43m,\u001b[49m\u001b[43m \u001b[49m\u001b[43mkeep_alive\u001b[49m\u001b[38;5;241;43m=\u001b[39;49m\u001b[38;5;28;43;01mTrue\u001b[39;49;00m\u001b[43m)\u001b[49m\n\u001b[1;32m    203\u001b[0m \u001b[38;5;28mself\u001b[39m\u001b[38;5;241m.\u001b[39m_is_remote \u001b[38;5;241m=\u001b[39m \u001b[38;5;28;01mFalse\u001b[39;00m\n",
      "File \u001b[0;32m~/miniconda3/envs/tensorflow/lib/python3.10/site-packages/selenium/webdriver/remote/webdriver.py:286\u001b[0m, in \u001b[0;36mWebDriver.__init__\u001b[0;34m(self, command_executor, desired_capabilities, browser_profile, proxy, keep_alive, file_detector, options)\u001b[0m\n\u001b[1;32m    284\u001b[0m \u001b[38;5;28mself\u001b[39m\u001b[38;5;241m.\u001b[39m_authenticator_id \u001b[38;5;241m=\u001b[39m \u001b[38;5;28;01mNone\u001b[39;00m\n\u001b[1;32m    285\u001b[0m \u001b[38;5;28mself\u001b[39m\u001b[38;5;241m.\u001b[39mstart_client()\n\u001b[0;32m--> 286\u001b[0m \u001b[38;5;28;43mself\u001b[39;49m\u001b[38;5;241;43m.\u001b[39;49m\u001b[43mstart_session\u001b[49m\u001b[43m(\u001b[49m\u001b[43mcapabilities\u001b[49m\u001b[43m,\u001b[49m\u001b[43m \u001b[49m\u001b[43mbrowser_profile\u001b[49m\u001b[43m)\u001b[49m\n",
      "File \u001b[0;32m~/miniconda3/envs/tensorflow/lib/python3.10/site-packages/selenium/webdriver/remote/webdriver.py:378\u001b[0m, in \u001b[0;36mWebDriver.start_session\u001b[0;34m(self, capabilities, browser_profile)\u001b[0m\n\u001b[1;32m    376\u001b[0m w3c_caps \u001b[38;5;241m=\u001b[39m _make_w3c_caps(capabilities)\n\u001b[1;32m    377\u001b[0m parameters \u001b[38;5;241m=\u001b[39m {\u001b[38;5;124m\"\u001b[39m\u001b[38;5;124mcapabilities\u001b[39m\u001b[38;5;124m\"\u001b[39m: w3c_caps}\n\u001b[0;32m--> 378\u001b[0m response \u001b[38;5;241m=\u001b[39m \u001b[38;5;28;43mself\u001b[39;49m\u001b[38;5;241;43m.\u001b[39;49m\u001b[43mexecute\u001b[49m\u001b[43m(\u001b[49m\u001b[43mCommand\u001b[49m\u001b[38;5;241;43m.\u001b[39;49m\u001b[43mNEW_SESSION\u001b[49m\u001b[43m,\u001b[49m\u001b[43m \u001b[49m\u001b[43mparameters\u001b[49m\u001b[43m)\u001b[49m\n\u001b[1;32m    379\u001b[0m \u001b[38;5;28;01mif\u001b[39;00m \u001b[38;5;124m\"\u001b[39m\u001b[38;5;124msessionId\u001b[39m\u001b[38;5;124m\"\u001b[39m \u001b[38;5;129;01mnot\u001b[39;00m \u001b[38;5;129;01min\u001b[39;00m response:\n\u001b[1;32m    380\u001b[0m     response \u001b[38;5;241m=\u001b[39m response[\u001b[38;5;124m\"\u001b[39m\u001b[38;5;124mvalue\u001b[39m\u001b[38;5;124m\"\u001b[39m]\n",
      "File \u001b[0;32m~/miniconda3/envs/tensorflow/lib/python3.10/site-packages/selenium/webdriver/remote/webdriver.py:440\u001b[0m, in \u001b[0;36mWebDriver.execute\u001b[0;34m(self, driver_command, params)\u001b[0m\n\u001b[1;32m    438\u001b[0m response \u001b[38;5;241m=\u001b[39m \u001b[38;5;28mself\u001b[39m\u001b[38;5;241m.\u001b[39mcommand_executor\u001b[38;5;241m.\u001b[39mexecute(driver_command, params)\n\u001b[1;32m    439\u001b[0m \u001b[38;5;28;01mif\u001b[39;00m response:\n\u001b[0;32m--> 440\u001b[0m     \u001b[38;5;28;43mself\u001b[39;49m\u001b[38;5;241;43m.\u001b[39;49m\u001b[43merror_handler\u001b[49m\u001b[38;5;241;43m.\u001b[39;49m\u001b[43mcheck_response\u001b[49m\u001b[43m(\u001b[49m\u001b[43mresponse\u001b[49m\u001b[43m)\u001b[49m\n\u001b[1;32m    441\u001b[0m     response[\u001b[38;5;124m\"\u001b[39m\u001b[38;5;124mvalue\u001b[39m\u001b[38;5;124m\"\u001b[39m] \u001b[38;5;241m=\u001b[39m \u001b[38;5;28mself\u001b[39m\u001b[38;5;241m.\u001b[39m_unwrap_value(response\u001b[38;5;241m.\u001b[39mget(\u001b[38;5;124m\"\u001b[39m\u001b[38;5;124mvalue\u001b[39m\u001b[38;5;124m\"\u001b[39m, \u001b[38;5;28;01mNone\u001b[39;00m))\n\u001b[1;32m    442\u001b[0m     \u001b[38;5;28;01mreturn\u001b[39;00m response\n",
      "File \u001b[0;32m~/miniconda3/envs/tensorflow/lib/python3.10/site-packages/selenium/webdriver/remote/errorhandler.py:245\u001b[0m, in \u001b[0;36mErrorHandler.check_response\u001b[0;34m(self, response)\u001b[0m\n\u001b[1;32m    243\u001b[0m         alert_text \u001b[38;5;241m=\u001b[39m value[\u001b[38;5;124m\"\u001b[39m\u001b[38;5;124malert\u001b[39m\u001b[38;5;124m\"\u001b[39m]\u001b[38;5;241m.\u001b[39mget(\u001b[38;5;124m\"\u001b[39m\u001b[38;5;124mtext\u001b[39m\u001b[38;5;124m\"\u001b[39m)\n\u001b[1;32m    244\u001b[0m     \u001b[38;5;28;01mraise\u001b[39;00m exception_class(message, screen, stacktrace, alert_text)  \u001b[38;5;66;03m# type: ignore[call-arg]  # mypy is not smart enough here\u001b[39;00m\n\u001b[0;32m--> 245\u001b[0m \u001b[38;5;28;01mraise\u001b[39;00m exception_class(message, screen, stacktrace)\n",
      "\u001b[0;31mSessionNotCreatedException\u001b[0m: Message: Expected browser binary location, but unable to find binary in default location, no 'moz:firefoxOptions.binary' capability provided, and no binary flag set on the command line\n"
     ]
    }
   ],
   "source": [
    "from selenium import webdriver\n",
    "from selenium.webdriver.common.keys import Keys\n",
    "import os\n",
    "import json\n",
    "from urllib.request import *\n",
    "import http.cookiejar\n",
    "import sys\n",
    "import time\n",
    "\n",
    "# adding path to geckodriver to the OS environment variable\n",
    "os.environ[\"PATH\"] += os.pathsep + os.getcwd()\n",
    "download_path = \"dataset/\"\n",
    "\n",
    "def main():\n",
    "    searchtext = sys.argv[1]\n",
    "    num_requested = 1000\n",
    "    number_of_scrolls = num_requested / 400 + 1 \n",
    "    # number_of_scrolls * 400 images will be opened in the browser\n",
    "\n",
    "    if not os.path.exists(download_path + searchtext.replace(\" \", \"_\")):\n",
    "        os.makedirs(download_path + searchtext.replace(\" \", \"_\"))\n",
    "\n",
    "    url = \"https://www.google.co.in/search?q=\"+searchtext+\"&source=lnms&tbm=isch\"\n",
    "    driver = webdriver.Firefox()\n",
    "    # from selenium import webdriver\n",
    "    driver.binary = \"/usr/bin/firefox\"\n",
    "    driver = webdriver.Firefox(firefox_options=firefox_options)\n",
    "    driver.get(url)\n",
    "\n",
    "    headers = {}\n",
    "    headers['User-Agent'] = \"Mozilla/5.0 (Windows NT 6.1) AppleWebKit/537.36 (KHTML, like Gecko) Chrome/41.0.2228.0 Safari/537.36\"\n",
    "    extensions = {\"jpg\", \"jpeg\", \"png\", \"gif\"}\n",
    "    img_count = 0\n",
    "    downloaded_img_count = 0\n",
    "    \n",
    "    for _ in range(int(number_of_scrolls)):\n",
    "        for __ in range(10):\n",
    "            # multiple scrolls needed to show all 400 images\n",
    "            driver.execute_script(\"window.scrollBy(0, 1000000)\")\n",
    "            time.sleep(0.2)\n",
    "        # to load next 400 images\n",
    "        time.sleep(0.5)\n",
    "        try:\n",
    "            driver.find_element_by_xpath(\"//input[@value='Show more results']\").click()\n",
    "        except Exception as e:\n",
    "            print (\"Less images found: {}\".format(e))\n",
    "            break\n",
    "\n",
    "    # imges = driver.find_elements_by_xpath('//div[@class=\"rg_meta\"]') # not working anymore\n",
    "    imges = driver.find_elements_by_xpath('//div[contains(@class,\"rg_meta\")]')\n",
    "    print (\"Total images: {}\\n\".format(len(imges)))\n",
    "    for img in imges:\n",
    "        img_count += 1\n",
    "        img_url = json.loads(img.get_attribute('innerHTML'))[\"ou\"]\n",
    "        img_type = json.loads(img.get_attribute('innerHTML'))[\"ity\"]\n",
    "        print (\"Downloading image {}:{}\".format(img_count,img_url))\n",
    "        try:\n",
    "            if img_type not in extensions:\n",
    "                img_type = \"jpg\"\n",
    "            req = Request(img_url, headers=headers)\n",
    "            raw_img = urlopen(req).read()\n",
    "            f = open(download_path+searchtext.replace(\" \", \"_\")+\"/\"+str(downloaded_img_count)+\".\"+img_type, \"wb\")\n",
    "            f.write(raw_img)\n",
    "            f.close\n",
    "            downloaded_img_count += 1\n",
    "        except Exception as e:\n",
    "            print(\"Download failed: {}\".format(e))\n",
    "        finally:\n",
    "            if downloaded_img_count >= num_requested:\n",
    "                break\n",
    "\n",
    "    print(\"Total downloaded: {}/{}\".format(downloaded_img_count,img_count))\n",
    "    driver.quit()\n",
    "\n",
    "if __name__ == \"__main__\":\n",
    "    main()"
   ]
  },
  {
   "cell_type": "code",
   "execution_count": null,
   "id": "7fb68934",
   "metadata": {},
   "outputs": [],
   "source": []
  }
 ],
 "metadata": {
  "kernelspec": {
   "display_name": "Python 3.10 (tensorflow)",
   "language": "python",
   "name": "tensorflow"
  },
  "language_info": {
   "codemirror_mode": {
    "name": "ipython",
    "version": 3
   },
   "file_extension": ".py",
   "mimetype": "text/x-python",
   "name": "python",
   "nbconvert_exporter": "python",
   "pygments_lexer": "ipython3",
   "version": "3.10.10"
  }
 },
 "nbformat": 4,
 "nbformat_minor": 5
}
