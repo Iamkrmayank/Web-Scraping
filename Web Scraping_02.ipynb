{
 "cells": [
  {
   "cell_type": "code",
   "execution_count": 1,
   "id": "3a48cd20",
   "metadata": {},
   "outputs": [
    {
     "name": "stdout",
     "output_type": "stream",
     "text": [
      "Collecting google-search-results\n",
      "  Downloading google_search_results-2.4.2.tar.gz (18 kB)\n",
      "  Preparing metadata (setup.py) ... \u001b[?25ldone\n",
      "\u001b[?25hRequirement already satisfied: requests in ./anaconda3/lib/python3.10/site-packages (from google-search-results) (2.28.1)\n",
      "Requirement already satisfied: urllib3<1.27,>=1.21.1 in ./anaconda3/lib/python3.10/site-packages (from requests->google-search-results) (1.26.14)\n",
      "Requirement already satisfied: certifi>=2017.4.17 in ./anaconda3/lib/python3.10/site-packages (from requests->google-search-results) (2022.12.7)\n",
      "Requirement already satisfied: idna<4,>=2.5 in ./anaconda3/lib/python3.10/site-packages (from requests->google-search-results) (3.4)\n",
      "Requirement already satisfied: charset-normalizer<3,>=2 in ./anaconda3/lib/python3.10/site-packages (from requests->google-search-results) (2.0.4)\n",
      "Building wheels for collected packages: google-search-results\n",
      "  Building wheel for google-search-results (setup.py) ... \u001b[?25ldone\n",
      "\u001b[?25h  Created wheel for google-search-results: filename=google_search_results-2.4.2-py3-none-any.whl size=32003 sha256=4ecc7f5ce3f4a2dc8dcce9f9b1b9df6d032ef808920ba49ba5ff307124816152\n",
      "  Stored in directory: /Users/kumarmayank/Library/Caches/pip/wheels/de/1b/db/6474e3f9e34a03ca54b85d98fc7742001e6fae1ff3881e3ed4\n",
      "Successfully built google-search-results\n",
      "Installing collected packages: google-search-results\n",
      "Successfully installed google-search-results-2.4.2\n",
      "Note: you may need to restart the kernel to use updated packages.\n"
     ]
    }
   ],
   "source": [
    "pip install google-search-results"
   ]
  },
  {
   "cell_type": "code",
   "execution_count": 2,
   "id": "be9b49b3",
   "metadata": {},
   "outputs": [
    {
     "name": "stdout",
     "output_type": "stream",
     "text": [
      "Invalid API key. Your API key should be here: https://serpapi.com/manage-api-key\n",
      "Invalid API key. Your API key should be here: https://serpapi.com/manage-api-key\n",
      "Invalid API key. Your API key should be here: https://serpapi.com/manage-api-key\n",
      "Invalid API key. Your API key should be here: https://serpapi.com/manage-api-key\n",
      "[]\n",
      "0\n"
     ]
    }
   ],
   "source": [
    "from serpapi import GoogleSearch\n",
    "import os, json\n",
    "\n",
    "image_results = []\n",
    "\n",
    "for query in [\"Dogs\", \"boat\", \"skyrim\", \"minecraft\"]:\n",
    "    params = {\n",
    "        \"engine\": \"google\",               # search engine. Google, Bing, Yahoo, Naver, Baidu...\n",
    "        \"q\": query,                       # search query\n",
    "        \"tbm\": \"isch\",                    # image results\n",
    "        \"num\": \"100\",                     # number of images per page\n",
    "        \"ijn\": 0,                         # page number: 0 -> first page, 1 -> second...\n",
    "        \"api_key\": os.getenv(\"API_KEY\")   # your serpapi api key\n",
    "    }\n",
    "\n",
    "    search = GoogleSearch(params)         # where data extraction happens\n",
    "\n",
    "    images_is_present = True\n",
    "    while images_is_present:\n",
    "        results = search.get_dict()       # JSON -> Python dictionary\n",
    "\n",
    "        # checks for \"Google hasn't returned any results for this query.\"\n",
    "        if \"error\" not in results:\n",
    "            for image in results[\"images_results\"]:\n",
    "                if image[\"original\"] not in image_results:\n",
    "                    print(image[\"original\"])\n",
    "                    image_results.append(image[\"original\"])\n",
    "            \n",
    "            # update to the next page\n",
    "            params[\"ijn\"] += 1\n",
    "        else:\n",
    "            images_is_present = False\n",
    "            print(results[\"error\"])\n",
    "\n",
    "print(json.dumps(image_results, indent=2))\n",
    "print(len(image_results))"
   ]
  },
  {
   "cell_type": "code",
   "execution_count": null,
   "id": "d4174ff8",
   "metadata": {},
   "outputs": [],
   "source": []
  }
 ],
 "metadata": {
  "kernelspec": {
   "display_name": "Python 3 (ipykernel)",
   "language": "python",
   "name": "python3"
  },
  "language_info": {
   "codemirror_mode": {
    "name": "ipython",
    "version": 3
   },
   "file_extension": ".py",
   "mimetype": "text/x-python",
   "name": "python",
   "nbconvert_exporter": "python",
   "pygments_lexer": "ipython3",
   "version": "3.10.9"
  }
 },
 "nbformat": 4,
 "nbformat_minor": 5
}
